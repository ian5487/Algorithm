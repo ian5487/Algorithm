{
  "nbformat": 4,
  "nbformat_minor": 0,
  "metadata": {
    "colab": {
      "name": "1223NP問題.ipynb",
      "provenance": [],
      "authorship_tag": "ABX9TyMhQSQTXyWCoYlRtomxzzWI",
      "include_colab_link": true
    },
    "kernelspec": {
      "name": "python3",
      "display_name": "Python 3"
    }
  },
  "cells": [
    {
      "cell_type": "markdown",
      "metadata": {
        "id": "view-in-github",
        "colab_type": "text"
      },
      "source": [
        "<a href=\"https://colab.research.google.com/github/ian5487/Algorithm/blob/master/1223NP%E5%95%8F%E9%A1%8C.ipynb\" target=\"_parent\"><img src=\"https://colab.research.google.com/assets/colab-badge.svg\" alt=\"Open In Colab\"/></a>"
      ]
    },
    {
      "cell_type": "markdown",
      "metadata": {
        "id": "M-THobpFYjx0"
      },
      "source": [
        "著色問題\r\n",
        "\r\n",
        "著色判定問題\r\n",
        "\r\n",
        "對一個圖用一定數量的顏色著色，當相鄰的區塊皆為不同顏色時，能否將所有區塊皆著色？[1]\r\n",
        "\r\n",
        "證明：回溯法\r\n",
        "\r\n",
        "用遞迴將每個可能的解填入，再測試是否符合規則，若符合則繼續往下填，否則回到上一個狀態做其他的可能的解，最終找出所有解[2]\r\n",
        "\r\n",
        "解析\r\n",
        "\r\n",
        "解的長度是固定的，n。若x為本問題的一個解，則x[i]表示第i個節點的塗色編號。可以將m種顏色看作每個節點的狀態空間。每到一個節點，遍歷所有顏色，剪枝，回溯。可以套用回溯法子集樹模板\r\n",
        "\r\n",
        "引述\r\n",
        "\r\n",
        "[1]給定一個圖G和m種不同的顏色。用這些顏色為圖G的各頂點著色，是否能使G中任意相鄰的2個頂點皆著不同顏色?\r\n",
        "\r\n",
        "https://codertw.com/程式語言/364245/\r\n",
        "\r\n",
        "[2]可以通過回溯的方法，不斷的為每一個節點著色，在前面n-1個節點都合法的著色之後，開始對第n個節點進行著色，這時候列舉可用的m個顏色，通過和第n個節點相鄰的節點的顏色，來判斷這個顏色是否合法，如果找到那麼一種顏色使得第n個節點能夠著色，那麼說明m種顏色的方案是可行的\r\n",
        "\r\n",
        "https://www.itread01.com/content/1549388169.html"
      ]
    },
    {
      "cell_type": "code",
      "metadata": {
        "colab": {
          "base_uri": "https://localhost:8080/"
        },
        "id": "eEN-5TlHXpuU",
        "outputId": "4ed09b95-ea41-4764-9770-f67c2d4f18dc"
      },
      "source": [
        "# 用鄰接表表示圖\r\n",
        "n = 5 # 節點數\r\n",
        "a,b,c,d,e = range(n) # 節點名稱\r\n",
        "graph = [\r\n",
        "{b,c,d},\r\n",
        "{a,c,d,e},\r\n",
        "{a,b,d},\r\n",
        "{a,b,c,e},\r\n",
        "{b,d}\r\n",
        "]\r\n",
        "m = 4 # m種顏色\r\n",
        "x = [0]*n # 一個解（n元陣列，長度固定）注意：解x的下標就是a,b,c,d,e!!!\r\n",
        "X = []   # 一組解\r\n",
        "# 衝突檢測\r\n",
        "def conflict(k):\r\n",
        "  global n,graph,x\r\n",
        "# 找出第k個節點前面已經塗色的鄰接節點\r\n",
        "  nodes = [node for node in range(k) if node in graph[k]]\r\n",
        "  if x[k] in [x[node] for node in nodes]: # 已經有相鄰節點塗了這種顏色\r\n",
        "    return True\r\n",
        "  return False # 無衝突\r\n",
        "# 圖的m著色（全部解）\r\n",
        "def dfs(k): # 到達（解x的）第k個節點\r\n",
        "  global n,m,graph,x,X\r\n",
        "  if k == n: # 解的長度超出\r\n",
        "    print(x)\r\n",
        "#X.append(x[:])\r\n",
        "  else:\r\n",
        "    for color in range(m): # 遍歷節點k的可塗顏色編號（狀態空間），全都一樣\r\n",
        "      x[k] = color\r\n",
        "      if not conflict(k): # 剪枝\r\n",
        "        dfs(k+1)\r\n",
        "# 測試\r\n",
        "dfs(a)  # 從節點a開始\r\n",
        "print(X)"
      ],
      "execution_count": null,
      "outputs": [
        {
          "output_type": "stream",
          "text": [
            "[0, 1, 2, 3, 0]\n",
            "[0, 1, 2, 3, 2]\n",
            "[0, 1, 3, 2, 0]\n",
            "[0, 1, 3, 2, 3]\n",
            "[0, 2, 1, 3, 0]\n",
            "[0, 2, 1, 3, 1]\n",
            "[0, 2, 3, 1, 0]\n",
            "[0, 2, 3, 1, 3]\n",
            "[0, 3, 1, 2, 0]\n",
            "[0, 3, 1, 2, 1]\n",
            "[0, 3, 2, 1, 0]\n",
            "[0, 3, 2, 1, 2]\n",
            "[1, 0, 2, 3, 1]\n",
            "[1, 0, 2, 3, 2]\n",
            "[1, 0, 3, 2, 1]\n",
            "[1, 0, 3, 2, 3]\n",
            "[1, 2, 0, 3, 0]\n",
            "[1, 2, 0, 3, 1]\n",
            "[1, 2, 3, 0, 1]\n",
            "[1, 2, 3, 0, 3]\n",
            "[1, 3, 0, 2, 0]\n",
            "[1, 3, 0, 2, 1]\n",
            "[1, 3, 2, 0, 1]\n",
            "[1, 3, 2, 0, 2]\n",
            "[2, 0, 1, 3, 1]\n",
            "[2, 0, 1, 3, 2]\n",
            "[2, 0, 3, 1, 2]\n",
            "[2, 0, 3, 1, 3]\n",
            "[2, 1, 0, 3, 0]\n",
            "[2, 1, 0, 3, 2]\n",
            "[2, 1, 3, 0, 2]\n",
            "[2, 1, 3, 0, 3]\n",
            "[2, 3, 0, 1, 0]\n",
            "[2, 3, 0, 1, 2]\n",
            "[2, 3, 1, 0, 1]\n",
            "[2, 3, 1, 0, 2]\n",
            "[3, 0, 1, 2, 1]\n",
            "[3, 0, 1, 2, 3]\n",
            "[3, 0, 2, 1, 2]\n",
            "[3, 0, 2, 1, 3]\n",
            "[3, 1, 0, 2, 0]\n",
            "[3, 1, 0, 2, 3]\n",
            "[3, 1, 2, 0, 2]\n",
            "[3, 1, 2, 0, 3]\n",
            "[3, 2, 0, 1, 0]\n",
            "[3, 2, 0, 1, 3]\n",
            "[3, 2, 1, 0, 1]\n",
            "[3, 2, 1, 0, 3]\n",
            "[]\n"
          ],
          "name": "stdout"
        }
      ]
    }
  ]
}