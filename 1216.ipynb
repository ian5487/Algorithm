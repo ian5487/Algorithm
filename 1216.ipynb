{
  "nbformat": 4,
  "nbformat_minor": 0,
  "metadata": {
    "colab": {
      "name": "1216.ipynb",
      "provenance": [],
      "authorship_tag": "ABX9TyOI8hIYOpFa5hFgTlrezB58",
      "include_colab_link": true
    },
    "kernelspec": {
      "name": "python3",
      "display_name": "Python 3"
    }
  },
  "cells": [
    {
      "cell_type": "markdown",
      "metadata": {
        "id": "view-in-github",
        "colab_type": "text"
      },
      "source": [
        "<a href=\"https://colab.research.google.com/github/ian5487/Algorithm/blob/master/1216.ipynb\" target=\"_parent\"><img src=\"https://colab.research.google.com/assets/colab-badge.svg\" alt=\"Open In Colab\"/></a>"
      ]
    },
    {
      "cell_type": "markdown",
      "metadata": {
        "id": "M-THobpFYjx0"
      },
      "source": [
        "著色問題\r\n",
        "\r\n",
        "著色判定問題\r\n",
        "\r\n",
        "給定一個圖G和m種不同的顏色。用這些顏色為圖G的各頂點著色，是否能使G中任意相鄰的2個頂點皆著不同顏色?\r\n",
        "的色數\r\n",
        "\r\n",
        "回溯法\r\n",
        "\r\n",
        "嘗試分步的去解決一個問題。在分步解決問題的過程中，通過嘗試發現當前分步答案不能得到可行的正確解答的時候，就取消上一步或是上幾步的計算，再通過其它的可能的分步解答再次嘗試尋找問題的答案\r\n",
        "\r\n",
        "來源：https://codertw.com/程式語言/364245/\r\n",
        "\r\n",
        "   https://zh.wikipedia.org/wiki/回溯法"
      ]
    },
    {
      "cell_type": "code",
      "metadata": {
        "colab": {
          "base_uri": "https://localhost:8080/"
        },
        "id": "eEN-5TlHXpuU",
        "outputId": "4ed09b95-ea41-4764-9770-f67c2d4f18dc"
      },
      "source": [
        "# 用鄰接表表示圖\r\n",
        "n = 5 # 節點數\r\n",
        "a,b,c,d,e = range(n) # 節點名稱\r\n",
        "graph = [\r\n",
        "{b,c,d},\r\n",
        "{a,c,d,e},\r\n",
        "{a,b,d},\r\n",
        "{a,b,c,e},\r\n",
        "{b,d}\r\n",
        "]\r\n",
        "m = 4 # m種顏色\r\n",
        "x = [0]*n # 一個解（n元陣列，長度固定）注意：解x的下標就是a,b,c,d,e!!!\r\n",
        "X = []   # 一組解\r\n",
        "# 衝突檢測\r\n",
        "def conflict(k):\r\n",
        "  global n,graph,x\r\n",
        "# 找出第k個節點前面已經塗色的鄰接節點\r\n",
        "  nodes = [node for node in range(k) if node in graph[k]]\r\n",
        "  if x[k] in [x[node] for node in nodes]: # 已經有相鄰節點塗了這種顏色\r\n",
        "    return True\r\n",
        "  return False # 無衝突\r\n",
        "# 圖的m著色（全部解）\r\n",
        "def dfs(k): # 到達（解x的）第k個節點\r\n",
        "  global n,m,graph,x,X\r\n",
        "  if k == n: # 解的長度超出\r\n",
        "    print(x)\r\n",
        "#X.append(x[:])\r\n",
        "  else:\r\n",
        "    for color in range(m): # 遍歷節點k的可塗顏色編號（狀態空間），全都一樣\r\n",
        "      x[k] = color\r\n",
        "      if not conflict(k): # 剪枝\r\n",
        "        dfs(k+1)\r\n",
        "# 測試\r\n",
        "dfs(a)  # 從節點a開始\r\n",
        "print(X)"
      ],
      "execution_count": 8,
      "outputs": [
        {
          "output_type": "stream",
          "text": [
            "[0, 1, 2, 3, 0]\n",
            "[0, 1, 2, 3, 2]\n",
            "[0, 1, 3, 2, 0]\n",
            "[0, 1, 3, 2, 3]\n",
            "[0, 2, 1, 3, 0]\n",
            "[0, 2, 1, 3, 1]\n",
            "[0, 2, 3, 1, 0]\n",
            "[0, 2, 3, 1, 3]\n",
            "[0, 3, 1, 2, 0]\n",
            "[0, 3, 1, 2, 1]\n",
            "[0, 3, 2, 1, 0]\n",
            "[0, 3, 2, 1, 2]\n",
            "[1, 0, 2, 3, 1]\n",
            "[1, 0, 2, 3, 2]\n",
            "[1, 0, 3, 2, 1]\n",
            "[1, 0, 3, 2, 3]\n",
            "[1, 2, 0, 3, 0]\n",
            "[1, 2, 0, 3, 1]\n",
            "[1, 2, 3, 0, 1]\n",
            "[1, 2, 3, 0, 3]\n",
            "[1, 3, 0, 2, 0]\n",
            "[1, 3, 0, 2, 1]\n",
            "[1, 3, 2, 0, 1]\n",
            "[1, 3, 2, 0, 2]\n",
            "[2, 0, 1, 3, 1]\n",
            "[2, 0, 1, 3, 2]\n",
            "[2, 0, 3, 1, 2]\n",
            "[2, 0, 3, 1, 3]\n",
            "[2, 1, 0, 3, 0]\n",
            "[2, 1, 0, 3, 2]\n",
            "[2, 1, 3, 0, 2]\n",
            "[2, 1, 3, 0, 3]\n",
            "[2, 3, 0, 1, 0]\n",
            "[2, 3, 0, 1, 2]\n",
            "[2, 3, 1, 0, 1]\n",
            "[2, 3, 1, 0, 2]\n",
            "[3, 0, 1, 2, 1]\n",
            "[3, 0, 1, 2, 3]\n",
            "[3, 0, 2, 1, 2]\n",
            "[3, 0, 2, 1, 3]\n",
            "[3, 1, 0, 2, 0]\n",
            "[3, 1, 0, 2, 3]\n",
            "[3, 1, 2, 0, 2]\n",
            "[3, 1, 2, 0, 3]\n",
            "[3, 2, 0, 1, 0]\n",
            "[3, 2, 0, 1, 3]\n",
            "[3, 2, 1, 0, 1]\n",
            "[3, 2, 1, 0, 3]\n",
            "[]\n"
          ],
          "name": "stdout"
        }
      ]
    }
  ]
}