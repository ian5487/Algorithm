{
  "nbformat": 4,
  "nbformat_minor": 0,
  "metadata": {
    "colab": {
      "name": "1209-dp.ipynb",
      "provenance": [],
      "authorship_tag": "ABX9TyPE5sxUSs8vTIjQh2FJLi+o",
      "include_colab_link": true
    },
    "kernelspec": {
      "name": "python3",
      "display_name": "Python 3"
    }
  },
  "cells": [
    {
      "cell_type": "markdown",
      "metadata": {
        "id": "view-in-github",
        "colab_type": "text"
      },
      "source": [
        "<a href=\"https://colab.research.google.com/github/ian5487/Algorithm/blob/master/1209_dp.ipynb\" target=\"_parent\"><img src=\"https://colab.research.google.com/assets/colab-badge.svg\" alt=\"Open In Colab\"/></a>"
      ]
    },
    {
      "cell_type": "markdown",
      "metadata": {
        "id": "jwz4QJ0MZh5h"
      },
      "source": [
        "n=7\r\n",
        "\r\n",
        "2+2+3 price=18\r\n",
        "\r\n",
        "6+1 price=18"
      ]
    },
    {
      "cell_type": "code",
      "metadata": {
        "colab": {
          "base_uri": "https://localhost:8080/"
        },
        "id": "F4634UDoZaeq",
        "outputId": "fec0837b-179e-4bfc-bc0f-65557ef8d539"
      },
      "source": [
        "#  自頂向下遞迴演算法實現\r\n",
        "#  R[n] = max{1≤i≤n, (pi+R[n-i])}          時間複雜度為：2^n(指數函式)\r\n",
        "def CutRod(value, n):  # 函式返回：切割長度為 n 的鋼條所得的最大收益\r\n",
        "    if n == 0:\r\n",
        "        return 0\r\n",
        "    maximum = -1\r\n",
        "    for i in range(1, n+1):\r\n",
        "        maximum = max(maximum, value[i] + CutRod(value, n-i))\r\n",
        "\r\n",
        "    return maximum\r\n",
        "\r\n",
        "n = int(input())\r\n",
        "p=[0,1,5,8,9,10,17,17,20,24,30]   # 價格表，下標為對應的鋼條長度，如當鋼條長度為0時，p=0,即p[0]=0，p[2]=5\r\n",
        "print(\"最大收益為：\",CutRod(p,4))  #  最大收益為： 10"
      ],
      "execution_count": 2,
      "outputs": [
        {
          "output_type": "stream",
          "text": [
            "1\n",
            "最大收益為： 10\n"
          ],
          "name": "stdout"
        }
      ]
    }
  ]
}