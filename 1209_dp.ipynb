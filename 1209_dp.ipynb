{
  "nbformat": 4,
  "nbformat_minor": 0,
  "metadata": {
    "colab": {
      "name": "1209-dp.ipynb",
      "provenance": [],
      "authorship_tag": "ABX9TyPqyeZvHeQ75txLsBqrKHOn",
      "include_colab_link": true
    },
    "kernelspec": {
      "name": "python3",
      "display_name": "Python 3"
    }
  },
  "cells": [
    {
      "cell_type": "markdown",
      "metadata": {
        "id": "view-in-github",
        "colab_type": "text"
      },
      "source": [
        "<a href=\"https://colab.research.google.com/github/ian5487/Algorithm/blob/master/1209_dp.ipynb\" target=\"_parent\"><img src=\"https://colab.research.google.com/assets/colab-badge.svg\" alt=\"Open In Colab\"/></a>"
      ]
    },
    {
      "cell_type": "markdown",
      "metadata": {
        "id": "jwz4QJ0MZh5h"
      },
      "source": [
        "n=7\r\n",
        "\r\n",
        "2+2+3 price=18\r\n",
        "\r\n",
        "6+1 price=18"
      ]
    },
    {
      "cell_type": "code",
      "metadata": {
        "colab": {
          "base_uri": "https://localhost:8080/"
        },
        "id": "IZGqhR1C8dgJ",
        "outputId": "602aef08-21fd-4739-8872-e94ea2bf69bb"
      },
      "source": [
        "times = 0 #紀錄長度是10的幾倍\r\n",
        "\r\n",
        "def maxForm(price,length): #最大價值表\r\n",
        "  if length > (len(price) - 1):\r\n",
        "    length = (len(price) - 1)\r\n",
        "  M = [0]*(length+1)\r\n",
        "  for i in range(1,length+1):\r\n",
        "    if length == 0:\r\n",
        "      return 0\r\n",
        "    maximum = -1\r\n",
        "    for j in range(1,i+1): #重複比較\r\n",
        "      maximum = max(maximum,price[j]+M[i-j]) #取長度j的價值+剩下長度的最大價值後跟之前的最大值比較取較大者\r\n",
        "      M[i] = maximum\r\n",
        "  return M\r\n",
        "\r\n",
        "def BottomUpCutRod(price,length): #最大獲利\r\n",
        "  global times\r\n",
        "  if length > (len(price) - 1):\r\n",
        "    times = length // (len(price) - 1)\r\n",
        "    length = length % (len(price) - 1)\r\n",
        "  M = [0]*(length+1)\r\n",
        "  for i in range(1,length+1):\r\n",
        "    if length == 0:\r\n",
        "      return 0\r\n",
        "    maximum = -1\r\n",
        "    for j in range(1,i+1): #重複比較\r\n",
        "      maximum = max(maximum,price[j]+M[i-j]) #取長度j的價值+剩下長度的最大價值後跟之前的最大值比較取較大者\r\n",
        "      M[i] = maximum #紀錄當前最大值\r\n",
        "\r\n",
        "  return M[length]\r\n",
        "\r\n",
        "\r\n",
        "n = int(input())\r\n",
        "p=[0,1,5,8,9,10,17,17,20,24,30]\r\n",
        "print(maxForm(p,n))\r\n",
        "benefit = BottomUpCutRod(p,n) + BottomUpCutRod(p,(len(p)-1)) * times\r\n",
        "print(benefit)"
      ],
      "execution_count": 84,
      "outputs": [
        {
          "output_type": "stream",
          "text": [
            "24\n",
            "[0, 1, 5, 8, 10, 13, 17, 18, 22, 25, 30]\n",
            "70\n"
          ],
          "name": "stdout"
        }
      ]
    }
  ]
}