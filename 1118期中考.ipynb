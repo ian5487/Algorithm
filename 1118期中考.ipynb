{
  "nbformat": 4,
  "nbformat_minor": 0,
  "metadata": {
    "colab": {
      "name": "1118期中考.ipynb",
      "provenance": [],
      "collapsed_sections": [],
      "include_colab_link": true
    },
    "kernelspec": {
      "name": "python3",
      "display_name": "Python 3"
    }
  },
  "cells": [
    {
      "cell_type": "markdown",
      "metadata": {
        "id": "view-in-github",
        "colab_type": "text"
      },
      "source": [
        "<a href=\"https://colab.research.google.com/github/ian5487/Algorithm/blob/master/1118%E6%9C%9F%E4%B8%AD%E8%80%83.ipynb\" target=\"_parent\"><img src=\"https://colab.research.google.com/assets/colab-badge.svg\" alt=\"Open In Colab\"/></a>"
      ]
    },
    {
      "cell_type": "markdown",
      "metadata": {
        "id": "j95w6SLwOC0z"
      },
      "source": [
        "Insertion sort (插入排序)"
      ]
    },
    {
      "cell_type": "code",
      "metadata": {
        "id": "BxBaYEwzNj_v",
        "colab": {
          "base_uri": "https://localhost:8080/"
        },
        "outputId": "effe6642-2d03-4cfe-9fa5-50eafcfb1f32"
      },
      "source": [
        "def insertionSort(arr):\n",
        "    for i in range(len(arr)):\n",
        "        preIndex = i-1\n",
        "        current = arr[i]                     #取這項的值\n",
        "        while preIndex >= 0 and arr[preIndex] > current:  #判斷前面有沒有大於自己的\n",
        "            arr[preIndex+1] = arr[preIndex]         #有就把它往後移\n",
        "            preIndex-=1\n",
        "        arr[preIndex+1] = current                #沒有或到底了就把自己填進去\n",
        "        print(arr)\n",
        "        print('---'*10)\n",
        "    return arr\n",
        "\n",
        "if __name__ == '__main__':\n",
        "    import random\n",
        "    a = []\n",
        "    for i in range(8):         #隨機取八個0~100的數\n",
        "      a.append(random.randint(0,100))\n",
        "\n",
        "    arr = insertionSort(a)"
      ],
      "execution_count": 6,
      "outputs": [
        {
          "output_type": "stream",
          "text": [
            "[10, 60, 70, 24, 62, 71, 69, 60]\n",
            "------------------------------\n",
            "[10, 60, 70, 24, 62, 71, 69, 60]\n",
            "------------------------------\n",
            "[10, 60, 70, 24, 62, 71, 69, 60]\n",
            "------------------------------\n",
            "[10, 24, 60, 70, 62, 71, 69, 60]\n",
            "------------------------------\n",
            "[10, 24, 60, 62, 70, 71, 69, 60]\n",
            "------------------------------\n",
            "[10, 24, 60, 62, 70, 71, 69, 60]\n",
            "------------------------------\n",
            "[10, 24, 60, 62, 69, 70, 71, 60]\n",
            "------------------------------\n",
            "[10, 24, 60, 60, 62, 69, 70, 71]\n",
            "------------------------------\n"
          ],
          "name": "stdout"
        }
      ]
    },
    {
      "cell_type": "markdown",
      "metadata": {
        "id": "KPzw-uMlbgfW"
      },
      "source": [
        "Selection sort (選擇排序)"
      ]
    },
    {
      "cell_type": "code",
      "metadata": {
        "colab": {
          "base_uri": "https://localhost:8080/"
        },
        "id": "zO7w0MbldsBI",
        "outputId": "f7d1b38d-3a22-47cb-f2fc-622360e8919d"
      },
      "source": [
        "def Selction_Sort(datas):\n",
        "    for i in range(len(datas)-1):\n",
        "        min = i\n",
        "        for j in range(i+1, len(datas)):\n",
        "            if datas[j] > datas[min]:       #找全部裡最大的\n",
        "                min = j\n",
        "        datas[i], datas[min] = datas[min], datas[i] #互換\n",
        "        print(datas)\n",
        "        print('---'*10)\n",
        "    return datas\n",
        "\n",
        "\n",
        "if __name__ == '__main__':\n",
        "    import random\n",
        "    a = []\n",
        "    for i in range(8):         #隨機取八個0~100的數\n",
        "      a.append(random.randint(0,100))\n",
        "    print(a)\n",
        "    print('---'*10)\n",
        "    a = Selction_Sort(a)"
      ],
      "execution_count": 5,
      "outputs": [
        {
          "output_type": "stream",
          "text": [
            "[44, 72, 76, 51, 8, 12, 69, 18]\n",
            "------------------------------\n",
            "[76, 72, 44, 51, 8, 12, 69, 18]\n",
            "------------------------------\n",
            "[76, 72, 44, 51, 8, 12, 69, 18]\n",
            "------------------------------\n",
            "[76, 72, 69, 51, 8, 12, 44, 18]\n",
            "------------------------------\n",
            "[76, 72, 69, 51, 8, 12, 44, 18]\n",
            "------------------------------\n",
            "[76, 72, 69, 51, 44, 12, 8, 18]\n",
            "------------------------------\n",
            "[76, 72, 69, 51, 44, 18, 8, 12]\n",
            "------------------------------\n",
            "[76, 72, 69, 51, 44, 18, 12, 8]\n",
            "------------------------------\n"
          ],
          "name": "stdout"
        }
      ]
    }
  ]
}