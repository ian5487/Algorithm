{
  "nbformat": 4,
  "nbformat_minor": 0,
  "metadata": {
    "colab": {
      "name": "insertionsort.ipynb",
      "provenance": [],
      "collapsed_sections": [],
      "include_colab_link": true
    },
    "kernelspec": {
      "name": "python3",
      "display_name": "Python 3"
    }
  },
  "cells": [
    {
      "cell_type": "markdown",
      "metadata": {
        "id": "view-in-github",
        "colab_type": "text"
      },
      "source": [
        "<a href=\"https://colab.research.google.com/github/ian5487/Algorithm/blob/master/insertionsort0930.ipynb\" target=\"_parent\"><img src=\"https://colab.research.google.com/assets/colab-badge.svg\" alt=\"Open In Colab\"/></a>"
      ]
    },
    {
      "cell_type": "markdown",
      "metadata": {
        "id": "j95w6SLwOC0z"
      },
      "source": [
        "Insertion sort (插入排序)"
      ]
    },
    {
      "cell_type": "code",
      "metadata": {
        "id": "BxBaYEwzNj_v",
        "outputId": "7a0b63c0-597f-4dd4-b53a-c79d02225234",
        "colab": {
          "base_uri": "https://localhost:8080/",
          "height": 326
        }
      },
      "source": [
        "\n",
        "def Insertion_Sort(datas): # 陣列資料有n\n",
        "    for i in range(1, len(datas)):  # n-1\n",
        "        for j in range(i): # n(n-1)/2\n",
        "            current = datas[i] # n(n-1)/2\n",
        "            # Total = n-1+n(n-1)/2+n(n-1)/2 = n^2-1 => O(n^2)\n",
        "    return datas\n",
        "\n",
        "\n",
        "def insertionSort(arr): # 陣列資料有n\n",
        "    for i in range(len(arr)): # n\n",
        "        preIndex = i-1 # n\n",
        "        current = arr[i] # n\n",
        "        while preIndex >= 0 and arr[preIndex] > current:\n",
        "            arr[preIndex+1] = arr[preIndex] # n\n",
        "            preIndex-=1 # n\n",
        "        arr[preIndex+1] = current # n\n",
        "        print(arr)\n",
        "    return arr\n",
        "    # Total = n+n+n+n+n = 5n => O(n)\n",
        "\n",
        "if __name__ == '__main__':\n",
        "    import random\n",
        "    a = list(range(16))\n",
        "    random.shuffle(a)\n",
        "    b = a.copy()\n",
        "\n",
        "    arr = insertionSort(a)\n",
        "    print('---'*10)\n",
        "    Insertion_Sort(b)"
      ],
      "execution_count": null,
      "outputs": [
        {
          "output_type": "stream",
          "text": [
            "[5, 4, 10, 8, 0, 15, 7, 1, 13, 2, 9, 14, 11, 3, 12, 6]\n",
            "[4, 5, 10, 8, 0, 15, 7, 1, 13, 2, 9, 14, 11, 3, 12, 6]\n",
            "[4, 5, 10, 8, 0, 15, 7, 1, 13, 2, 9, 14, 11, 3, 12, 6]\n",
            "[4, 5, 8, 10, 0, 15, 7, 1, 13, 2, 9, 14, 11, 3, 12, 6]\n",
            "[0, 4, 5, 8, 10, 15, 7, 1, 13, 2, 9, 14, 11, 3, 12, 6]\n",
            "[0, 4, 5, 8, 10, 15, 7, 1, 13, 2, 9, 14, 11, 3, 12, 6]\n",
            "[0, 4, 5, 7, 8, 10, 15, 1, 13, 2, 9, 14, 11, 3, 12, 6]\n",
            "[0, 1, 4, 5, 7, 8, 10, 15, 13, 2, 9, 14, 11, 3, 12, 6]\n",
            "[0, 1, 4, 5, 7, 8, 10, 13, 15, 2, 9, 14, 11, 3, 12, 6]\n",
            "[0, 1, 2, 4, 5, 7, 8, 10, 13, 15, 9, 14, 11, 3, 12, 6]\n",
            "[0, 1, 2, 4, 5, 7, 8, 9, 10, 13, 15, 14, 11, 3, 12, 6]\n",
            "[0, 1, 2, 4, 5, 7, 8, 9, 10, 13, 14, 15, 11, 3, 12, 6]\n",
            "[0, 1, 2, 4, 5, 7, 8, 9, 10, 11, 13, 14, 15, 3, 12, 6]\n",
            "[0, 1, 2, 3, 4, 5, 7, 8, 9, 10, 11, 13, 14, 15, 12, 6]\n",
            "[0, 1, 2, 3, 4, 5, 7, 8, 9, 10, 11, 12, 13, 14, 15, 6]\n",
            "[0, 1, 2, 3, 4, 5, 6, 7, 8, 9, 10, 11, 12, 13, 14, 15]\n",
            "------------------------------\n"
          ],
          "name": "stdout"
        }
      ]
    }
  ]
}