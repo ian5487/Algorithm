{
  "nbformat": 4,
  "nbformat_minor": 0,
  "metadata": {
    "colab": {
      "name": "Untitled1.ipynb",
      "provenance": [],
      "authorship_tag": "ABX9TyOYIK2phiQQ9cCF1jS404qw",
      "include_colab_link": true
    },
    "kernelspec": {
      "name": "python3",
      "display_name": "Python 3"
    }
  },
  "cells": [
    {
      "cell_type": "markdown",
      "metadata": {
        "id": "view-in-github",
        "colab_type": "text"
      },
      "source": [
        "<a href=\"https://colab.research.google.com/github/ian5487/Algorithm/blob/master/10_07_HW.ipynb\" target=\"_parent\"><img src=\"https://colab.research.google.com/assets/colab-badge.svg\" alt=\"Open In Colab\"/></a>"
      ]
    },
    {
      "cell_type": "markdown",
      "metadata": {
        "id": "A8Fra9J7NvXp"
      },
      "source": [
        "如何判斷某年是不是閏年?\n",
        "\n",
        "方法1"
      ]
    },
    {
      "cell_type": "code",
      "metadata": {
        "id": "gqAkWY1fNvB6",
        "outputId": "cca180f2-f318-48dd-ea07-6b9c88c13aaa",
        "colab": {
          "base_uri": "https://localhost:8080/",
          "height": 54
        }
      },
      "source": [
        "year = input(\"請輸入年：\")\n",
        "try: #判斷條件\n",
        "  val = int(year) #將輸入的字串宣告為int\n",
        "  if int(year)%4 != 0: #判斷年除以4的餘數是否為零\n",
        "    print(\"這不是閏年\")\n",
        "  else:\n",
        "    print(\"這是閏年\")  \n",
        "except ValueError: #若出錯\n",
        "  print(\"這不是數字\")"
      ],
      "execution_count": 5,
      "outputs": [
        {
          "output_type": "stream",
          "text": [
            "請輸入年：jlo\n",
            "這不是數字\n"
          ],
          "name": "stdout"
        }
      ]
    },
    {
      "cell_type": "markdown",
      "metadata": {
        "id": "v3HRya7hNn-W"
      },
      "source": [
        "方法2"
      ]
    },
    {
      "cell_type": "code",
      "metadata": {
        "id": "FZYRwaH828Gj",
        "outputId": "2fde0700-de3f-4a20-909b-7548fa165233",
        "colab": {
          "base_uri": "https://localhost:8080/",
          "height": 54
        }
      },
      "source": [
        "year = []\n",
        "test = []\n",
        "\n",
        "#重複查詢\n",
        "def search():\n",
        "  while True:\n",
        "    try:\n",
        "      x = input(\"請輸入2000~2040：\")#輸入值\n",
        "      y = int(x)\n",
        "      if y < 2000 | y > 2040 :#判斷是否在範圍內\n",
        "        print(\"不在範圍內\")\n",
        "      else:#在範圍內則查詢是否閏年\n",
        "        if test[y - 2000] == 1:\n",
        "          print(\"這是閏年\")\n",
        "        else:\n",
        "          print(\"這不是閏年\")\n",
        "    except ValueError: #若錯誤\n",
        "      print(\"這不是數字\")\n",
        "      break\n",
        "\n",
        "#存值和判斷是否閏年\n",
        "for i in range (0,41):\n",
        "      year.append(2000+i)\n",
        "      if year[i]%4 == 0:\n",
        "        test.append(1)\n",
        "      else:\n",
        "        test.append(0)\n",
        "search()"
      ],
      "execution_count": 1,
      "outputs": [
        {
          "output_type": "stream",
          "text": [
            "請輸入2000~2040：guyg\n",
            "這不是數字\n"
          ],
          "name": "stdout"
        }
      ]
    }
  ]
}