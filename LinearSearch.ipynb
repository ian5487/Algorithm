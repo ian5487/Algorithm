{
  "nbformat": 4,
  "nbformat_minor": 0,
  "metadata": {
    "colab": {
      "name": "Untitled2.ipynb",
      "provenance": [],
      "authorship_tag": "ABX9TyPKjEeVBL2nLLE7jQIOg0FE",
      "include_colab_link": true
    },
    "kernelspec": {
      "name": "python3",
      "display_name": "Python 3"
    }
  },
  "cells": [
    {
      "cell_type": "markdown",
      "metadata": {
        "id": "view-in-github",
        "colab_type": "text"
      },
      "source": [
        "<a href=\"https://colab.research.google.com/github/ian5487/Algorithm/blob/master/LinearSearch.ipynb\" target=\"_parent\"><img src=\"https://colab.research.google.com/assets/colab-badge.svg\" alt=\"Open In Colab\"/></a>"
      ]
    },
    {
      "cell_type": "code",
      "metadata": {
        "id": "MeLYHQ6_w3wj",
        "outputId": "64bee64f-5154-48a7-d288-2a5d7bdabdff",
        "colab": {
          "base_uri": "https://localhost:8080/",
          "height": 54
        }
      },
      "source": [
        "data = [20,31,17,50,16,36,19,8]\n",
        "\n",
        "def sequentialSearch(data,key):\n",
        "  for i in range(len(data)):\n",
        "    if data[i] == key:\n",
        "      print(\"找到了\")\n",
        "      print(\"在\"+i+1)\n",
        "      break\n",
        "    elif i+1 == len(data):\n",
        "      print(\"沒找到\")\n",
        "      break\n",
        "x = 0\n",
        "input(x)\n",
        "sequentialSearch(data,x)"
      ],
      "execution_count": 18,
      "outputs": [
        {
          "output_type": "stream",
          "text": [
            "dsa\n",
            "沒找到\n"
          ],
          "name": "stdout"
        }
      ]
    }
  ]
}