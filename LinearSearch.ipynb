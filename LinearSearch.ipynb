{
  "nbformat": 4,
  "nbformat_minor": 0,
  "metadata": {
    "colab": {
      "name": "Untitled2.ipynb",
      "provenance": [],
      "authorship_tag": "ABX9TyN3CawEMOZL64MIQhaTYA3L",
      "include_colab_link": true
    },
    "kernelspec": {
      "name": "python3",
      "display_name": "Python 3"
    }
  },
  "cells": [
    {
      "cell_type": "markdown",
      "metadata": {
        "id": "view-in-github",
        "colab_type": "text"
      },
      "source": [
        "<a href=\"https://colab.research.google.com/github/ian5487/Algorithm/blob/master/LinearSearch.ipynb\" target=\"_parent\"><img src=\"https://colab.research.google.com/assets/colab-badge.svg\" alt=\"Open In Colab\"/></a>"
      ]
    },
    {
      "cell_type": "code",
      "metadata": {
        "id": "MeLYHQ6_w3wj",
        "outputId": "d2110381-a274-4359-d9fb-91b182cabf4b",
        "colab": {
          "base_uri": "https://localhost:8080/",
          "height": 72
        }
      },
      "source": [
        "data = [20,31,17,50,16,36,19,8]\n",
        "\n",
        "def sequentialSearch(data,key):\n",
        "  for i in range(len(data)):\n",
        "    if data[i] == int(key):\n",
        "      print(\"找到了\")\n",
        "      print(\"在\"+str(i+1))\n",
        "      break\n",
        "    elif i+1 == len(data):\n",
        "      print(\"沒找到\")\n",
        "      break\n",
        "#x = 0\n",
        "#input(x)\n",
        "sequentialSearch(data,20)"
      ],
      "execution_count": 36,
      "outputs": [
        {
          "output_type": "stream",
          "text": [
            "0\n",
            "找到了\n",
            "在1\n"
          ],
          "name": "stdout"
        }
      ]
    }
  ]
}