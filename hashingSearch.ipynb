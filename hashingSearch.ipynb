{
  "nbformat": 4,
  "nbformat_minor": 0,
  "metadata": {
    "colab": {
      "name": "hashingSearch.ipynb",
      "provenance": [],
      "authorship_tag": "ABX9TyMNzc9baoRWo38WOyf6zIlm",
      "include_colab_link": true
    },
    "kernelspec": {
      "name": "python3",
      "display_name": "Python 3"
    }
  },
  "cells": [
    {
      "cell_type": "markdown",
      "metadata": {
        "id": "view-in-github",
        "colab_type": "text"
      },
      "source": [
        "<a href=\"https://colab.research.google.com/github/ian5487/Algorithm/blob/master/hashingSearch.ipynb\" target=\"_parent\"><img src=\"https://colab.research.google.com/assets/colab-badge.svg\" alt=\"Open In Colab\"/></a>"
      ]
    },
    {
      "cell_type": "code",
      "metadata": {
        "id": "qeYfb3DMA5SK",
        "outputId": "859120a1-cb0d-4686-f796-7dc732183e38",
        "colab": {
          "base_uri": "https://localhost:8080/",
          "height": 235
        }
      },
      "source": [
        "import random\n",
        "\n",
        "INDEXBOX = 10\n",
        "MAXNUM = 7\n",
        "\n",
        "def print_data(data,max_number):\n",
        "  print('\\t',end = '')\n",
        "  for i in range(max_number):\n",
        "    print('[%2d} '%data[i],end = '')\n",
        "  print()\n",
        "\n",
        "def create_table(num,index):\n",
        "  tmp = num%INDEXBOX\n",
        "  while True:\n",
        "    if index[tmp] == -1:\n",
        "      index[tmp] = num\n",
        "      break\n",
        "    else:\n",
        "      tmp = (tmp+1)%INDEXBOX\n",
        "\n",
        "\n",
        "#main\n",
        "\n",
        "index=[None]*INDEXBOX\n",
        "data=[None]*MAXNUM\n",
        "\n",
        "print('原始陣列值：')\n",
        "for i in range(MAXNUM):\n",
        "  data[i] = random.randint(1,20)\n",
        "for i in range(INDEXBOX):\n",
        "  index[i] = -1\n",
        "print_data(data,MAXNUM)\n",
        "\n",
        "print('雜湊表內容')\n",
        "for i in range(MAXNUM):\n",
        "  create_table(data[i],index)\n",
        "  print(' %2d =>' %data[i],end = '')\n",
        "  print_data(index,INDEXBOX)\n",
        "\n",
        "print('完成雜湊表')\n",
        "print_data(index,INDEXBOX)"
      ],
      "execution_count": 6,
      "outputs": [
        {
          "output_type": "stream",
          "text": [
            "原始陣列值：\n",
            "\t[ 7} [ 8} [ 7} [17} [ 9} [18} [13} \n",
            "雜湊表內容\n",
            "  7 =>\t[-1} [-1} [-1} [-1} [-1} [-1} [-1} [ 7} [-1} [-1} \n",
            "  8 =>\t[-1} [-1} [-1} [-1} [-1} [-1} [-1} [ 7} [ 8} [-1} \n",
            "  7 =>\t[-1} [-1} [-1} [-1} [-1} [-1} [-1} [ 7} [ 8} [ 7} \n",
            " 17 =>\t[17} [-1} [-1} [-1} [-1} [-1} [-1} [ 7} [ 8} [ 7} \n",
            "  9 =>\t[17} [ 9} [-1} [-1} [-1} [-1} [-1} [ 7} [ 8} [ 7} \n",
            " 18 =>\t[17} [ 9} [18} [-1} [-1} [-1} [-1} [ 7} [ 8} [ 7} \n",
            " 13 =>\t[17} [ 9} [18} [13} [-1} [-1} [-1} [ 7} [ 8} [ 7} \n",
            "完成雜湊表\n",
            "\t[17} [ 9} [18} [13} [-1} [-1} [-1} [ 7} [ 8} [ 7} \n"
          ],
          "name": "stdout"
        }
      ]
    },
    {
      "cell_type": "markdown",
      "metadata": {
        "id": "xDwTQAh7GshH"
      },
      "source": [
        "平方法"
      ]
    },
    {
      "cell_type": "code",
      "metadata": {
        "id": "NqP-kR4MGqS1",
        "outputId": "bc9f1845-39d4-4a2c-e341-bd6eaa0521ce",
        "colab": {
          "base_uri": "https://localhost:8080/",
          "height": 536
        }
      },
      "source": [
        "import random\n",
        "\n",
        "INDEXBOX = 10\n",
        "MAXNUM = 7\n",
        "n = 1               #紀錄次數\n",
        "\n",
        "def print_data(data,max_number):\n",
        "  print('\\t',end = '')\n",
        "  for i in range(max_number):\n",
        "    print('[%2d} '%data[i],end = '')\n",
        "  print()\n",
        "\n",
        "def create_table(num,index,n):\n",
        "  tmp = num%INDEXBOX\n",
        "  a = tmp\n",
        "  while True:\n",
        "    if index[tmp] == -1:\n",
        "      index[tmp] = num\n",
        "      n = 1\n",
        "      break\n",
        "    else:\n",
        "      tmp = (a+n^2)%INDEXBOX #把n平方加上去\n",
        "      n+1\n",
        "\n",
        "\n",
        "#main\n",
        "\n",
        "index=[None]*INDEXBOX\n",
        "data=[None]*MAXNUM\n",
        "\n",
        "print('原始陣列值：')\n",
        "for i in range(MAXNUM):\n",
        "  data[i] = random.randint(1,20)\n",
        "for i in range(INDEXBOX):\n",
        "  index[i] = -1\n",
        "print_data(data,MAXNUM)\n",
        "\n",
        "print('雜湊表內容')\n",
        "for i in range(MAXNUM):\n",
        "  create_table(data[i],index,n)\n",
        "  print(' %2d =>' %data[i],end = '')\n",
        "  print_data(index,INDEXBOX)\n",
        "\n",
        "print('完成雜湊表')\n",
        "print_data(index,INDEXBOX)"
      ],
      "execution_count": 17,
      "outputs": [
        {
          "output_type": "stream",
          "text": [
            "原始陣列值：\n",
            "\t[13} [14} [17} [ 2} [17} [ 6} [ 4} \n",
            "雜湊表內容\n",
            " 13 =>\t[-1} [-1} [-1} [13} [-1} [-1} [-1} [-1} [-1} [-1} \n",
            " 14 =>\t[-1} [-1} [-1} [13} [14} [-1} [-1} [-1} [-1} [-1} \n",
            " 17 =>\t[-1} [-1} [-1} [13} [14} [-1} [-1} [17} [-1} [-1} \n",
            "  2 =>\t[-1} [-1} [ 2} [13} [14} [-1} [-1} [17} [-1} [-1} \n",
            " 17 =>\t[17} [-1} [ 2} [13} [14} [-1} [-1} [17} [-1} [-1} \n",
            "  6 =>\t[17} [-1} [ 2} [13} [14} [-1} [ 6} [17} [-1} [-1} \n"
          ],
          "name": "stdout"
        },
        {
          "output_type": "error",
          "ename": "KeyboardInterrupt",
          "evalue": "ignored",
          "traceback": [
            "\u001b[0;31m---------------------------------------------------------------------------\u001b[0m",
            "\u001b[0;31mKeyboardInterrupt\u001b[0m                         Traceback (most recent call last)",
            "\u001b[0;32m<ipython-input-17-d00d6ca12761>\u001b[0m in \u001b[0;36m<module>\u001b[0;34m()\u001b[0m\n\u001b[1;32m     38\u001b[0m \u001b[0mprint\u001b[0m\u001b[0;34m(\u001b[0m\u001b[0;34m'雜湊表內容'\u001b[0m\u001b[0;34m)\u001b[0m\u001b[0;34m\u001b[0m\u001b[0;34m\u001b[0m\u001b[0m\n\u001b[1;32m     39\u001b[0m \u001b[0;32mfor\u001b[0m \u001b[0mi\u001b[0m \u001b[0;32min\u001b[0m \u001b[0mrange\u001b[0m\u001b[0;34m(\u001b[0m\u001b[0mMAXNUM\u001b[0m\u001b[0;34m)\u001b[0m\u001b[0;34m:\u001b[0m\u001b[0;34m\u001b[0m\u001b[0;34m\u001b[0m\u001b[0m\n\u001b[0;32m---> 40\u001b[0;31m   \u001b[0mcreate_table\u001b[0m\u001b[0;34m(\u001b[0m\u001b[0mdata\u001b[0m\u001b[0;34m[\u001b[0m\u001b[0mi\u001b[0m\u001b[0;34m]\u001b[0m\u001b[0;34m,\u001b[0m\u001b[0mindex\u001b[0m\u001b[0;34m,\u001b[0m\u001b[0mn\u001b[0m\u001b[0;34m)\u001b[0m\u001b[0;34m\u001b[0m\u001b[0;34m\u001b[0m\u001b[0m\n\u001b[0m\u001b[1;32m     41\u001b[0m   \u001b[0mprint\u001b[0m\u001b[0;34m(\u001b[0m\u001b[0;34m' %2d =>'\u001b[0m \u001b[0;34m%\u001b[0m\u001b[0mdata\u001b[0m\u001b[0;34m[\u001b[0m\u001b[0mi\u001b[0m\u001b[0;34m]\u001b[0m\u001b[0;34m,\u001b[0m\u001b[0mend\u001b[0m \u001b[0;34m=\u001b[0m \u001b[0;34m''\u001b[0m\u001b[0;34m)\u001b[0m\u001b[0;34m\u001b[0m\u001b[0;34m\u001b[0m\u001b[0m\n\u001b[1;32m     42\u001b[0m   \u001b[0mprint_data\u001b[0m\u001b[0;34m(\u001b[0m\u001b[0mindex\u001b[0m\u001b[0;34m,\u001b[0m\u001b[0mINDEXBOX\u001b[0m\u001b[0;34m)\u001b[0m\u001b[0;34m\u001b[0m\u001b[0;34m\u001b[0m\u001b[0m\n",
            "\u001b[0;32m<ipython-input-17-d00d6ca12761>\u001b[0m in \u001b[0;36mcreate_table\u001b[0;34m(num, index, n)\u001b[0m\n\u001b[1;32m     20\u001b[0m       \u001b[0;32mbreak\u001b[0m\u001b[0;34m\u001b[0m\u001b[0;34m\u001b[0m\u001b[0m\n\u001b[1;32m     21\u001b[0m     \u001b[0;32melse\u001b[0m\u001b[0;34m:\u001b[0m\u001b[0;34m\u001b[0m\u001b[0;34m\u001b[0m\u001b[0m\n\u001b[0;32m---> 22\u001b[0;31m       \u001b[0mtmp\u001b[0m \u001b[0;34m=\u001b[0m \u001b[0;34m(\u001b[0m\u001b[0ma\u001b[0m\u001b[0;34m+\u001b[0m\u001b[0mn\u001b[0m\u001b[0;34m^\u001b[0m\u001b[0;36m2\u001b[0m\u001b[0;34m)\u001b[0m\u001b[0;34m%\u001b[0m\u001b[0mINDEXBOX\u001b[0m \u001b[0;31m#把n平方加上去\u001b[0m\u001b[0;34m\u001b[0m\u001b[0;34m\u001b[0m\u001b[0m\n\u001b[0m\u001b[1;32m     23\u001b[0m       \u001b[0mn\u001b[0m\u001b[0;34m+\u001b[0m\u001b[0;36m1\u001b[0m\u001b[0;34m\u001b[0m\u001b[0;34m\u001b[0m\u001b[0m\n\u001b[1;32m     24\u001b[0m \u001b[0;34m\u001b[0m\u001b[0m\n",
            "\u001b[0;31mKeyboardInterrupt\u001b[0m: "
          ]
        }
      ]
    },
    {
      "cell_type": "markdown",
      "metadata": {
        "id": "EBdD4n6tMZjK"
      },
      "source": [
        "再雜湊"
      ]
    },
    {
      "cell_type": "code",
      "metadata": {
        "id": "PlCqnjY4Min1",
        "outputId": "4cadcd22-74f1-4d72-e859-096a0bf498e4",
        "colab": {
          "base_uri": "https://localhost:8080/",
          "height": 464
        }
      },
      "source": [
        "import random\n",
        "\n",
        "INDEXBOX = 10\n",
        "MAXNUM = 7\n",
        "n = 0               #紀錄次數\n",
        "\n",
        "def print_data(data,max_number):\n",
        "  print('\\t',end = '')\n",
        "  for i in range(max_number):\n",
        "    print('[%2d} '%data[i],end = '')\n",
        "  print()\n",
        "\n",
        "def create_table(num,index,n):\n",
        "  tmp = num%INDEXBOX\n",
        "  while True:\n",
        "    if index[tmp] == -1:\n",
        "      index[tmp] = num\n",
        "      n = 1\n",
        "      break\n",
        "    else:\n",
        "      tmp = (tmp+n*2)%INDEXBOX #把n平方加上去\n",
        "      n+1\n",
        "\n",
        "\n",
        "#main\n",
        "\n",
        "index=[None]*INDEXBOX\n",
        "data=[None]*MAXNUM\n",
        "\n",
        "print('原始陣列值：')\n",
        "for i in range(MAXNUM):\n",
        "  data[i] = random.randint(1,20)\n",
        "for i in range(INDEXBOX):\n",
        "  index[i] = -1\n",
        "print_data(data,MAXNUM)\n",
        "\n",
        "print('雜湊表內容')\n",
        "for i in range(MAXNUM):\n",
        "  create_table(data[i],index,n)\n",
        "  print(' %2d =>' %data[i],end = '')\n",
        "  print_data(index,INDEXBOX)\n",
        "\n",
        "print('完成雜湊表')\n",
        "print_data(index,INDEXBOX)"
      ],
      "execution_count": 21,
      "outputs": [
        {
          "output_type": "stream",
          "text": [
            "原始陣列值：\n",
            "\t[ 7} [20} [17} [ 9} [ 6} [15} [ 4} \n",
            "雜湊表內容\n",
            "  7 =>\t[-1} [-1} [-1} [-1} [-1} [-1} [-1} [ 7} [-1} [-1} \n",
            " 20 =>\t[20} [-1} [-1} [-1} [-1} [-1} [-1} [ 7} [-1} [-1} \n"
          ],
          "name": "stdout"
        },
        {
          "output_type": "error",
          "ename": "KeyboardInterrupt",
          "evalue": "ignored",
          "traceback": [
            "\u001b[0;31m---------------------------------------------------------------------------\u001b[0m",
            "\u001b[0;31mKeyboardInterrupt\u001b[0m                         Traceback (most recent call last)",
            "\u001b[0;32m<ipython-input-21-fc394aa08eee>\u001b[0m in \u001b[0;36m<module>\u001b[0;34m()\u001b[0m\n\u001b[1;32m     37\u001b[0m \u001b[0mprint\u001b[0m\u001b[0;34m(\u001b[0m\u001b[0;34m'雜湊表內容'\u001b[0m\u001b[0;34m)\u001b[0m\u001b[0;34m\u001b[0m\u001b[0;34m\u001b[0m\u001b[0m\n\u001b[1;32m     38\u001b[0m \u001b[0;32mfor\u001b[0m \u001b[0mi\u001b[0m \u001b[0;32min\u001b[0m \u001b[0mrange\u001b[0m\u001b[0;34m(\u001b[0m\u001b[0mMAXNUM\u001b[0m\u001b[0;34m)\u001b[0m\u001b[0;34m:\u001b[0m\u001b[0;34m\u001b[0m\u001b[0;34m\u001b[0m\u001b[0m\n\u001b[0;32m---> 39\u001b[0;31m   \u001b[0mcreate_table\u001b[0m\u001b[0;34m(\u001b[0m\u001b[0mdata\u001b[0m\u001b[0;34m[\u001b[0m\u001b[0mi\u001b[0m\u001b[0;34m]\u001b[0m\u001b[0;34m,\u001b[0m\u001b[0mindex\u001b[0m\u001b[0;34m,\u001b[0m\u001b[0mn\u001b[0m\u001b[0;34m)\u001b[0m\u001b[0;34m\u001b[0m\u001b[0;34m\u001b[0m\u001b[0m\n\u001b[0m\u001b[1;32m     40\u001b[0m   \u001b[0mprint\u001b[0m\u001b[0;34m(\u001b[0m\u001b[0;34m' %2d =>'\u001b[0m \u001b[0;34m%\u001b[0m\u001b[0mdata\u001b[0m\u001b[0;34m[\u001b[0m\u001b[0mi\u001b[0m\u001b[0;34m]\u001b[0m\u001b[0;34m,\u001b[0m\u001b[0mend\u001b[0m \u001b[0;34m=\u001b[0m \u001b[0;34m''\u001b[0m\u001b[0;34m)\u001b[0m\u001b[0;34m\u001b[0m\u001b[0;34m\u001b[0m\u001b[0m\n\u001b[1;32m     41\u001b[0m   \u001b[0mprint_data\u001b[0m\u001b[0;34m(\u001b[0m\u001b[0mindex\u001b[0m\u001b[0;34m,\u001b[0m\u001b[0mINDEXBOX\u001b[0m\u001b[0;34m)\u001b[0m\u001b[0;34m\u001b[0m\u001b[0;34m\u001b[0m\u001b[0m\n",
            "\u001b[0;32m<ipython-input-21-fc394aa08eee>\u001b[0m in \u001b[0;36mcreate_table\u001b[0;34m(num, index, n)\u001b[0m\n\u001b[1;32m     20\u001b[0m     \u001b[0;32melse\u001b[0m\u001b[0;34m:\u001b[0m\u001b[0;34m\u001b[0m\u001b[0;34m\u001b[0m\u001b[0m\n\u001b[1;32m     21\u001b[0m       \u001b[0mtmp\u001b[0m \u001b[0;34m=\u001b[0m \u001b[0;34m(\u001b[0m\u001b[0mtmp\u001b[0m\u001b[0;34m+\u001b[0m\u001b[0mn\u001b[0m\u001b[0;34m*\u001b[0m\u001b[0;36m2\u001b[0m\u001b[0;34m)\u001b[0m\u001b[0;34m%\u001b[0m\u001b[0mINDEXBOX\u001b[0m \u001b[0;31m#把n平方加上去\u001b[0m\u001b[0;34m\u001b[0m\u001b[0;34m\u001b[0m\u001b[0m\n\u001b[0;32m---> 22\u001b[0;31m       \u001b[0mn\u001b[0m\u001b[0;34m+\u001b[0m\u001b[0;36m1\u001b[0m\u001b[0;34m\u001b[0m\u001b[0;34m\u001b[0m\u001b[0m\n\u001b[0m\u001b[1;32m     23\u001b[0m \u001b[0;34m\u001b[0m\u001b[0m\n\u001b[1;32m     24\u001b[0m \u001b[0;34m\u001b[0m\u001b[0m\n",
            "\u001b[0;31mKeyboardInterrupt\u001b[0m: "
          ]
        }
      ]
    }
  ]
}