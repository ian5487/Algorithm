{
  "nbformat": 4,
  "nbformat_minor": 0,
  "metadata": {
    "colab": {
      "name": "bubblesort.ipynb",
      "provenance": [],
      "include_colab_link": true
    },
    "kernelspec": {
      "name": "python3",
      "display_name": "Python 3"
    }
  },
  "cells": [
    {
      "cell_type": "markdown",
      "metadata": {
        "id": "view-in-github",
        "colab_type": "text"
      },
      "source": [
        "<a href=\"https://colab.research.google.com/github/ian5487/Algorithm/blob/master/bubblesort_HW.ipynb\" target=\"_parent\"><img src=\"https://colab.research.google.com/assets/colab-badge.svg\" alt=\"Open In Colab\"/></a>"
      ]
    },
    {
      "cell_type": "markdown",
      "metadata": {
        "id": "32sgU0StMiof"
      },
      "source": [
        "Bubble sort (氣泡排序)"
      ]
    },
    {
      "cell_type": "code",
      "metadata": {
        "id": "esB_4fSeMLYJ",
        "outputId": "55131d55-0259-4f4c-a4bf-2ee6228a58e6",
        "colab": {
          "base_uri": "https://localhost:8080/",
          "height": 163
        }
      },
      "source": [
        "def Bubble_Sort(datas):\n",
        "    for i in range(1, len(datas)): # \n",
        "        for j in range(len(datas)-i):   # \n",
        "            if datas[j] > datas[j+1]:   # \n",
        "                datas[j], datas[j+1] = datas[j+1], datas[j]\n",
        "    return datas\n",
        "\n",
        "\n",
        "if __name__ == '__main__':\n",
        "    import random\n",
        "    x = 0\n",
        "    b = [] #宣告矩陣\n",
        "    for x in range(0,6): #for迴圈輸入\n",
        "      b.append(input()) #\n",
        "    random.shuffle(b)\n",
        "    print(b)\n",
        "    a = Bubble_Sort(b)\n",
        "    print(b)"
      ],
      "execution_count": 13,
      "outputs": [
        {
          "output_type": "stream",
          "text": [
            "2\n",
            "6\n",
            "1\n",
            "9\n",
            "7\n",
            "4\n",
            "['2', '4', '1', '6', '7', '9']\n",
            "['1', '2', '4', '6', '7', '9']\n"
          ],
          "name": "stdout"
        }
      ]
    },
    {
      "cell_type": "markdown",
      "metadata": {
        "id": "MOQ_aZKnM-wL"
      },
      "source": [
        "請加入註解，並將程式修改為加入六個數做氣泡排序\n"
      ]
    }
  ]
}
