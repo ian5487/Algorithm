{
  "nbformat": 4,
  "nbformat_minor": 0,
  "metadata": {
    "colab": {
      "name": "Untitled3.ipynb",
      "provenance": [],
      "authorship_tag": "ABX9TyMDkPvPUX4sCadf5CtjH2OQ",
      "include_colab_link": true
    },
    "kernelspec": {
      "name": "python3",
      "display_name": "Python 3"
    }
  },
  "cells": [
    {
      "cell_type": "markdown",
      "metadata": {
        "id": "view-in-github",
        "colab_type": "text"
      },
      "source": [
        "<a href=\"https://colab.research.google.com/github/ian5487/Algorithm/blob/master/BinarySearch.ipynb\" target=\"_parent\"><img src=\"https://colab.research.google.com/assets/colab-badge.svg\" alt=\"Open In Colab\"/></a>"
      ]
    },
    {
      "cell_type": "code",
      "metadata": {
        "id": "Psq-HVKz4_Gc"
      },
      "source": [
        "data = [1,22,32,48,56,63,47,82,94]\n",
        "\n",
        "def binary_search(data, key):\n",
        "    #設置選取範圍的指標\n",
        "    low = 0\n",
        "    upper = len(data) - 1\n",
        "    while low <= upper:\n",
        "        mid = int((low + upper) / 2 ) #取中間索引的值\n",
        "        if data[mid] < key:    #若搜尋值比中間的值大，將中間索引+1，取右半\n",
        "            low = mid + 1\n",
        "        elif data[mid] > key:  #若搜尋值比中間的值小，將中間索引+1，取左半\n",
        "            upper = mid - 1\n",
        "        else:            #若搜尋值等於中間的值，則回傳\n",
        "            return mid\n",
        "    return -1\n",
        "\n",
        "\n",
        "index = binary_search(data,32)\n",
        "if index >= 0:\n",
        "    print(\"找到數值於索引 \" + str(index))\n",
        "else:\n",
        "    print(\"找不到數值\")"
      ],
      "execution_count": null,
      "outputs": []
    }
  ]
}