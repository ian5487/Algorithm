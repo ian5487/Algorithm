{
  "nbformat": 4,
  "nbformat_minor": 0,
  "metadata": {
    "colab": {
      "name": "1202.ipynb",
      "provenance": [],
      "authorship_tag": "ABX9TyNXVu1iGbU5sVXHgwI+rS30",
      "include_colab_link": true
    },
    "kernelspec": {
      "name": "python3",
      "display_name": "Python 3"
    }
  },
  "cells": [
    {
      "cell_type": "markdown",
      "metadata": {
        "id": "view-in-github",
        "colab_type": "text"
      },
      "source": [
        "<a href=\"https://colab.research.google.com/github/ian5487/Algorithm/blob/master/1202.ipynb\" target=\"_parent\"><img src=\"https://colab.research.google.com/assets/colab-badge.svg\" alt=\"Open In Colab\"/></a>"
      ]
    },
    {
      "cell_type": "markdown",
      "metadata": {
        "id": "d8uw0KMeUC9E"
      },
      "source": [
        "找零"
      ]
    },
    {
      "cell_type": "markdown",
      "metadata": {
        "id": "nTSsdMM7PD9F"
      },
      "source": [
        "greedy"
      ]
    },
    {
      "cell_type": "code",
      "metadata": {
        "colab": {
          "base_uri": "https://localhost:8080/"
        },
        "id": "rIzC0lEwLzxZ",
        "outputId": "ea9fdc8b-913c-4996-bd4c-d9593ba2149a"
      },
      "source": [
        "t = [25,20,5,1]\n",
        "n = int(input())\n",
        "\n",
        "def change(t,n):\n",
        "  m = [0 for _ in range(len(t))]\n",
        "  for i,money in enumerate(t):\n",
        "    m[i] = n // money\n",
        "    n = n % money\n",
        "    print(m,n)\n",
        "\n",
        "change(t,n)"
      ],
      "execution_count": 9,
      "outputs": [
        {
          "output_type": "stream",
          "text": [
            "678\n",
            "[27, 0, 0, 0] 3\n",
            "[27, 0, 0, 0] 3\n",
            "[27, 0, 0, 0] 3\n",
            "[27, 0, 0, 3] 0\n"
          ],
          "name": "stdout"
        }
      ]
    },
    {
      "cell_type": "markdown",
      "metadata": {
        "id": "cs68ZfxbPHh7"
      },
      "source": [
        "dp"
      ]
    },
    {
      "cell_type": "code",
      "metadata": {
        "colab": {
          "base_uri": "https://localhost:8080/"
        },
        "id": "dMViSEk5PJjb",
        "outputId": "1b53ae3d-6d76-4faf-a1ef-9e6b5073a4cb"
      },
      "source": [
        "def coin_change(coins,change,dp,coins_used):\n",
        "\t'''利用动态规划求解找零需要的钱币张数，以及钱币的使用情况'''\n",
        "\tfor i in range(1,change+1):\n",
        "\t\t#依次求解，dp[1]~dp[change]\n",
        "\t\tfor j in range(len(coins)):\n",
        "\t\t\tif coins[j]<=i:\n",
        "\t\t\t\t#使用这张钱币的前提，纸币的金额数<=需要找零的金额，比如：找零8块，不能使用10块的钱币\n",
        "\t\t\t\tif dp[i-coins[j]]+1<dp[i]:\n",
        "\t\t\t\t\t#dp[i]=min(dp[i],dp[i-coins[j]]+1)\n",
        "\t\t\t\t\tdp[i]=dp[i-coins[j]]+1\n",
        "\t\t\t\t\t#记录使用的钱币\n",
        "\t\t\t\t\tnew_coin=coins[j]\n",
        "\t\tcoins_used[i]=new_coin\n",
        " \n",
        "\tif dp[change]>change:\n",
        "\t\t#无解的情况，初始化的时候设置dp[change]=change+1\n",
        "\t\treturn -1\n",
        "\telse:\n",
        "\t\treturn dp[change]\n",
        "def used_coins(change,used_coins):\n",
        "\t'''利用used_coins求解使用的钱币'''\n",
        "\tre=[]\n",
        "\twhile change:\n",
        "\t\t#dp[i]=dp[i-coins[j]]+1    used_coins[change]=coins[j]\n",
        "\t\ttmp=used_coins[change]\n",
        "\t\tre.append(tmp)\n",
        "\t\tchange-=tmp\n",
        "\treturn re\n",
        " \n",
        "if __name__=='__main__':\n",
        "\t#初始化\n",
        "\tcoins=[1,5,20,25]\n",
        "\tchange=int(input())\n",
        "\tdp=[change+1]*(change+1)\n",
        "\tdp[0]=0\n",
        "\tcoins_used=[0]*(change+1)\n",
        " \n",
        "\tre=coin_change(coins,change,dp,coins_used)\n",
        "\tre_coins=used_coins(change,coins_used)\n",
        "\tprint(\"找零{0}元需要{1}张钱币,分别是{2}\".format(change,re,re_coins))"
      ],
      "execution_count": 10,
      "outputs": [
        {
          "output_type": "stream",
          "text": [
            "41\n",
            "找零41元需要3张钱币,分别是[1, 20, 20]\n"
          ],
          "name": "stdout"
        }
      ]
    },
    {
      "cell_type": "markdown",
      "metadata": {
        "id": "m-DuRSMAT5k1"
      },
      "source": [
        "小偷"
      ]
    },
    {
      "cell_type": "markdown",
      "metadata": {
        "id": "VVol8RKtUGxN"
      },
      "source": [
        "greedy"
      ]
    },
    {
      "cell_type": "code",
      "metadata": {
        "colab": {
          "base_uri": "https://localhost:8080/"
        },
        "id": "kIJ-WYW5UIJ7",
        "outputId": "5776a6a9-5694-4273-ebd3-e84660b96621"
      },
      "source": [
        "\n",
        "t = [5,1,4,3,2]\n",
        "v = [17000,35000,60000,9000,20000]\n",
        "n = 10\n",
        "\n",
        "def Selction_Sort(datas,data2): #排價值順序\n",
        "    for i in range(len(datas)-1):\n",
        "        min = i\n",
        "        for j in range(i+1, len(datas)):\n",
        "            if datas[j] > datas[min]:       #找全部裡最大的\n",
        "                min = j\n",
        "        datas[i], datas[min] = datas[min], datas[i] #互換\n",
        "        data2[i], data2[min] = data2[min], data2[i]\n",
        "    print(datas,data2)\n",
        "\n",
        "def change(t,n):\n",
        "  m = [0 for _ in range(len(t))]\n",
        "  for i,kg in enumerate(t):\n",
        "    m[i] = 1\n",
        "    if n - kg < 0:\n",
        "      n = n\n",
        "      m[i] = 0\n",
        "    else:\n",
        "      n = n -kg\n",
        "    print(m,n)\n",
        "\n",
        "Selction_Sort(v,t)\n",
        "change(t,n)"
      ],
      "execution_count": 26,
      "outputs": [
        {
          "output_type": "stream",
          "text": [
            "[60000, 35000, 20000, 17000, 9000] [4, 1, 2, 5, 3]\n",
            "[1, 0, 0, 0, 0] 6\n",
            "[1, 1, 0, 0, 0] 5\n",
            "[1, 1, 1, 0, 0] 3\n",
            "[1, 1, 1, 0, 0] 3\n",
            "[1, 1, 1, 0, 1] 0\n"
          ],
          "name": "stdout"
        }
      ]
    },
    {
      "cell_type": "markdown",
      "metadata": {
        "id": "85oOCuvYdxVI"
      },
      "source": [
        "dp"
      ]
    },
    {
      "cell_type": "code",
      "metadata": {
        "colab": {
          "base_uri": "https://localhost:8080/"
        },
        "id": "bVNFe3ufebnG",
        "outputId": "4a0058d2-a5db-46cb-84ad-ecd5707d4275"
      },
      "source": [
        "import numpy as np\n",
        "def pack():\n",
        "    C=10\n",
        "    num=5\n",
        "    v = [5,1,4,3,2] #物品重量\n",
        "    price=[17000,35000,60000,9000,20000]\n",
        "    sum=np.zeros((num+1,C+1)) \n",
        "    for jew in range(num+1): #物品個數\n",
        "        for c in range(C+1): #容量大小\n",
        "            if(jew==0):  #如果沒有裝進去\n",
        "                sum[jew][c]=0\n",
        "            else:\n",
        "                sum[jew][c]=sum[jew-1][c]\n",
        "            if(jew>0 and c>=v[jew-1]): \n",
        "                \n",
        "                sum[jew][c]=max(sum[jew-1][c],sum[jew-1][c-v[jew-1]]+price[jew-1])\n",
        "    print(\"the max price:\",sum[num][C])\n",
        " \n",
        "    # 紀錄放入的物品\n",
        "    pack=np.zeros((num))\n",
        "    volume = C\n",
        "    for jew in range(num,-1,-1): \n",
        "        if(sum[jew][volume]>sum[jew-1][volume]):# 如果最後的物品比前一個貴 \n",
        "            pack[jew-1]=1\n",
        "            volume=volume-v[jew-1]\n",
        " \n",
        "    print(\"背包情況\",pack)\n",
        " \n",
        "if __name__==\"__main__\":\n",
        "    pack()"
      ],
      "execution_count": 28,
      "outputs": [
        {
          "output_type": "stream",
          "text": [
            "the max price: 124000.0\n",
            "背包情況 [0. 1. 1. 1. 1.]\n"
          ],
          "name": "stdout"
        }
      ]
    }
  ]
}